{
  "nbformat": 4,
  "nbformat_minor": 0,
  "metadata": {
    "colab": {
      "name": "Ejercicios_resueltos(2).ipynb",
      "provenance": [],
      "authorship_tag": "ABX9TyPP7Lb8QRKAQoYi5ShRDq4P",
      "include_colab_link": true
    },
    "kernelspec": {
      "name": "python3",
      "display_name": "Python 3"
    },
    "language_info": {
      "name": "python"
    }
  },
  "cells": [
    {
      "cell_type": "markdown",
      "metadata": {
        "id": "view-in-github",
        "colab_type": "text"
      },
      "source": [
        "<a href=\"https://colab.research.google.com/github/aaminrc/Ejercicios-en-python/blob/main/Ejercicios_resueltos(2).ipynb\" target=\"_parent\"><img src=\"https://colab.research.google.com/assets/colab-badge.svg\" alt=\"Open In Colab\"/></a>"
      ]
    },
    {
      "cell_type": "markdown",
      "source": [
        "Ejercicios de Cadenas (https://aprendeconalf.es/docencia/python/ejercicios/cadenas/)"
      ],
      "metadata": {
        "id": "KsoTGjFXDmji"
      }
    },
    {
      "cell_type": "code",
      "execution_count": null,
      "metadata": {
        "id": "ASMJpruGyTjb",
        "colab": {
          "base_uri": "https://localhost:8080/"
        },
        "outputId": "aa4b027a-9140-42ff-a88b-d07ff25dd752"
      },
      "outputs": [
        {
          "output_type": "stream",
          "name": "stdout",
          "text": [
            "Como te llamas? Addison Reyes\n",
            "Digita un numero: 2\n",
            "Addison Reyes\n",
            "Addison Reyes\n",
            "\n"
          ]
        }
      ],
      "source": [
        "#Ejercicio 1\n",
        "nombre = input(\"Como te llamas? \")\n",
        "numero = int(input(\"Digita un numero: \"))\n",
        "print((nombre + \"\\n\") * numero)"
      ]
    },
    {
      "cell_type": "code",
      "source": [
        "#Ejercicio 2\n",
        "nombre = input(\"Digita tu nombre completo: \")\n",
        "print(nombre.lower())\n",
        "print(nombre.upper())\n",
        "print(nombre.title())"
      ],
      "metadata": {
        "colab": {
          "base_uri": "https://localhost:8080/"
        },
        "id": "GrVEjYZlIFCv",
        "outputId": "82501b62-ff60-419a-befc-ad1b2b85fed4"
      },
      "execution_count": null,
      "outputs": [
        {
          "output_type": "stream",
          "name": "stdout",
          "text": [
            "Digita tu nombre completo: aDDISon AmIn ReyeS cedano\n",
            "addison amin reyes cedano\n",
            "ADDISON AMIN REYES CEDANO\n",
            "Addison Amin Reyes Cedano\n"
          ]
        }
      ]
    },
    {
      "cell_type": "code",
      "source": [
        "#Ejercicio 3\n",
        "nombre = input(\"Como te llamas? \")\n",
        "print(\"\")\n",
        "print(\"Tu nombre <\" + nombre.upper() + \"> tiene <\" + str(len(nombre)) + \"> letras.\")"
      ],
      "metadata": {
        "colab": {
          "base_uri": "https://localhost:8080/"
        },
        "id": "tkEfPzpDNFwu",
        "outputId": "2a5d3480-ec23-44ab-bbcf-5dc2ea105b06"
      },
      "execution_count": null,
      "outputs": [
        {
          "output_type": "stream",
          "name": "stdout",
          "text": [
            "Como te llamas? Addison\n",
            "\n",
            "Tu nombre <ADDISON> tiene <7> letras.\n"
          ]
        }
      ]
    },
    {
      "cell_type": "code",
      "source": [
        "#Ejercicio 4\n",
        "print(\"Basado al formato (+34-913724710-56)...\")\n",
        "numero = input(\"Digita tu numero: \")\n",
        "numero = numero[4:13:]\n",
        "print(numero)"
      ],
      "metadata": {
        "colab": {
          "base_uri": "https://localhost:8080/"
        },
        "id": "3Wj4rgf5N70J",
        "outputId": "49ca4d59-78be-4b4b-d973-a55c067256e4"
      },
      "execution_count": null,
      "outputs": [
        {
          "output_type": "stream",
          "name": "stdout",
          "text": [
            "Basado al formato (+34-913724710-56)...\n",
            "Digita tu numero: +34-359642849-56\n",
            "359642849\n"
          ]
        }
      ]
    },
    {
      "cell_type": "code",
      "source": [
        "#Ejercicio 5\n",
        "frase = input(\"Escribe una frase:\\n  \")\n",
        "print(\"\\n\" + frase[::-1])"
      ],
      "metadata": {
        "colab": {
          "base_uri": "https://localhost:8080/"
        },
        "id": "9ZqAwkZ1P30b",
        "outputId": "2e360277-9ecc-41f3-a84e-8485e8668a32"
      },
      "execution_count": null,
      "outputs": [
        {
          "output_type": "stream",
          "name": "stdout",
          "text": [
            "Escribe una frase:\n",
            "  aditrevni esarF\n",
            "\n",
            "Frase invertida\n"
          ]
        }
      ]
    },
    {
      "cell_type": "code",
      "source": [
        "#Ejercicio 6\n",
        "frase = input(\"Escribe una frase: \")\n",
        "vocal = input(\"Escribe una vocal: \")\n",
        "print(\"\\n\" + frase.replace(vocal.lower(), vocal.upper()))"
      ],
      "metadata": {
        "colab": {
          "base_uri": "https://localhost:8080/"
        },
        "id": "DqvHrToqQ6CB",
        "outputId": "e46fb19a-29c1-4afb-c06a-bbe00986a8d1"
      },
      "execution_count": 1,
      "outputs": [
        {
          "output_type": "stream",
          "name": "stdout",
          "text": [
            "Escribe una frase: Tres tristes trigres tragaban trigo en un trigal\n",
            "Escribe una vocal: e\n",
            "\n",
            "TrEs tristEs trigrEs tragaban trigo En un trigal\n"
          ]
        }
      ]
    },
    {
      "cell_type": "code",
      "source": [
        "#Ejercicio 7\n",
        "correo = str(input(\"Digita tu correo electronico: \"))\n",
        "dominio = correo.find(\"@\")\n",
        "nuevo_correo = correo[:dominio:]\n",
        "print(\"\\nTu nuevo correo es \" + nuevo_correo + \"@ceu.es\")"
      ],
      "metadata": {
        "colab": {
          "base_uri": "https://localhost:8080/"
        },
        "id": "shfYPL6LkT1J",
        "outputId": "de81eee6-ff86-4d01-ffd4-2cd17bdea945"
      },
      "execution_count": 3,
      "outputs": [
        {
          "output_type": "stream",
          "name": "stdout",
          "text": [
            "Digita tu correo electronico: JuanitoPerez.3743@hotmail.com\n",
            "\n",
            "Tu nuevo correo es JuanitoPerez.3743@ceu.es\n"
          ]
        }
      ]
    },
    {
      "cell_type": "code",
      "source": [
        "#Ejercicio 8\n",
        "producto = str(input(\"Digita el precio del producto que compraras: \"))\n",
        "print(\"\\nTu producto tiene el valor de €\" + producto[:producto.find(\".\"):] + \" euros con 0\" + producto[producto.find(\".\")::])"
      ],
      "metadata": {
        "colab": {
          "base_uri": "https://localhost:8080/"
        },
        "id": "73Y0mXILmTl8",
        "outputId": "5ff0c423-2581-4a94-824e-ce5d46a297c1"
      },
      "execution_count": 4,
      "outputs": [
        {
          "output_type": "stream",
          "name": "stdout",
          "text": [
            "Digita el precio del producto que compraras: 349.56\n",
            "\n",
            "Tu producto tiene el valor de €349 euros con 0.56\n"
          ]
        }
      ]
    },
    {
      "cell_type": "code",
      "source": [
        "#Ejercicio 9\n",
        "fecha = str(input(\"Introduce tu fecha de nacimiento, en formato (dd/mm/aaaa): \"))\n",
        "print(\"\\nNaciste en el dia \" + fecha[:2:] + \" en el mes \" + fecha[3:5:] + \" en el año \" + fecha[6::])"
      ],
      "metadata": {
        "colab": {
          "base_uri": "https://localhost:8080/"
        },
        "id": "LI1SlKXRo6sJ",
        "outputId": "7bebebc3-9c01-40b3-d85b-52cdc2442cd3"
      },
      "execution_count": 6,
      "outputs": [
        {
          "output_type": "stream",
          "name": "stdout",
          "text": [
            "Introduce tu fecha de nacimiento, en formato (dd/mm/aaaa): 02/03/2002\n",
            "\n",
            "Naciste en el dia 02 en el mes 03 en el año 2002\n"
          ]
        }
      ]
    },
    {
      "cell_type": "code",
      "source": [
        "#Ejercicio 10\n",
        "productos = input(\"Escribe separado por comas los productos de una cesta: \")\n",
        "print(productos.replace(\",\", \"\\n\"))"
      ],
      "metadata": {
        "colab": {
          "base_uri": "https://localhost:8080/"
        },
        "id": "GlaaLtAersAI",
        "outputId": "833f8d89-397e-44be-c988-06b56a739045"
      },
      "execution_count": 28,
      "outputs": [
        {
          "output_type": "stream",
          "name": "stdout",
          "text": [
            "Escribe separado por comas los productos de una cesta: Jugo, Tomate, Malta, Guineo, Aguacate\n",
            "Jugo\n",
            " Tomate\n",
            " Malta\n",
            " Guineo\n",
            " Aguacate\n"
          ]
        }
      ]
    },
    {
      "cell_type": "code",
      "source": [
        "#Ejercicio 11\n",
        "producto = str(input(\"Escribe el nombre del producto: \"))\n",
        "precio = float(input(\"Digita el precio del producto: $\"))\n",
        "unidades = int(input(\"Digita cuantas unidades hay: \"))\n",
        "\n",
        "print(\"\\nEl producto \" + producto + \", tiene un precio $\" + str(round(precio, 2)) + \" y hay \" + str(unidades) + \"unidades.\\nTeniendo un coste total de $\" + str(round(precio*unidades,2)))"
      ],
      "metadata": {
        "colab": {
          "base_uri": "https://localhost:8080/"
        },
        "id": "rZc21D_8zqhz",
        "outputId": "02376eb9-d281-4247-db8f-047785833410"
      },
      "execution_count": 31,
      "outputs": [
        {
          "output_type": "stream",
          "name": "stdout",
          "text": [
            "Escribe el nombre del producto: Laptop\n",
            "Digita el precio del producto: $16999.99\n",
            "Digita cuantas unidades hay: 6\n",
            "\n",
            "El producto Laptop, tiene un precio $16999.99 y hay 6unidades.\n",
            "Teniendo un coste total de $101999.94\n"
          ]
        }
      ]
    }
  ]
}