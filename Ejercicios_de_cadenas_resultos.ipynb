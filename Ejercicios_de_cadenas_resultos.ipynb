{
  "nbformat": 4,
  "nbformat_minor": 0,
  "metadata": {
    "colab": {
      "name": "Ejercicios de cadenas resultos.ipynb",
      "provenance": [],
      "authorship_tag": "ABX9TyMHDDLNNm65owk6DZkN21uA",
      "include_colab_link": true
    },
    "kernelspec": {
      "name": "python3",
      "display_name": "Python 3"
    },
    "language_info": {
      "name": "python"
    }
  },
  "cells": [
    {
      "cell_type": "markdown",
      "metadata": {
        "id": "view-in-github",
        "colab_type": "text"
      },
      "source": [
        "<a href=\"https://colab.research.google.com/github/aaminrc/Ejercicios-en-python/blob/main/Ejercicios_de_cadenas_resultos.ipynb\" target=\"_parent\"><img src=\"https://colab.research.google.com/assets/colab-badge.svg\" alt=\"Open In Colab\"/></a>"
      ]
    },
    {
      "cell_type": "markdown",
      "source": [
        "Ejercicios de Cadenas (https://aprendeconalf.es/docencia/python/ejercicios/cadenas/)"
      ],
      "metadata": {
        "id": "KsoTGjFXDmji"
      }
    },
    {
      "cell_type": "code",
      "execution_count": 14,
      "metadata": {
        "id": "ASMJpruGyTjb",
        "colab": {
          "base_uri": "https://localhost:8080/"
        },
        "outputId": "aa4b027a-9140-42ff-a88b-d07ff25dd752"
      },
      "outputs": [
        {
          "output_type": "stream",
          "name": "stdout",
          "text": [
            "Como te llamas? Addison Reyes\n",
            "Digita un numero: 2\n",
            "Addison Reyes\n",
            "Addison Reyes\n",
            "\n"
          ]
        }
      ],
      "source": [
        "#Ejercicio 1\n",
        "nombre = input(\"Como te llamas? \")\n",
        "numero = int(input(\"Digita un numero: \"))\n",
        "print((nombre + \"\\n\") * numero)"
      ]
    },
    {
      "cell_type": "code",
      "source": [
        "#Ejercicio 2\n",
        "nombre = input(\"Digita tu nombre completo: \")\n",
        "print(nombre.lower())\n",
        "print(nombre.upper())\n",
        "print(nombre.title())"
      ],
      "metadata": {
        "colab": {
          "base_uri": "https://localhost:8080/"
        },
        "id": "GrVEjYZlIFCv",
        "outputId": "82501b62-ff60-419a-befc-ad1b2b85fed4"
      },
      "execution_count": 16,
      "outputs": [
        {
          "output_type": "stream",
          "name": "stdout",
          "text": [
            "Digita tu nombre completo: aDDISon AmIn ReyeS cedano\n",
            "addison amin reyes cedano\n",
            "ADDISON AMIN REYES CEDANO\n",
            "Addison Amin Reyes Cedano\n"
          ]
        }
      ]
    },
    {
      "cell_type": "code",
      "source": [
        "#Ejercicio 3\n",
        "nombre = input(\"Como te llamas? \")\n",
        "print(\"\")\n",
        "print(\"Tu nombre <\" + nombre.upper() + \"> tiene <\" + str(len(nombre)) + \"> letras.\")"
      ],
      "metadata": {
        "colab": {
          "base_uri": "https://localhost:8080/"
        },
        "id": "tkEfPzpDNFwu",
        "outputId": "2a5d3480-ec23-44ab-bbcf-5dc2ea105b06"
      },
      "execution_count": 20,
      "outputs": [
        {
          "output_type": "stream",
          "name": "stdout",
          "text": [
            "Como te llamas? Addison\n",
            "\n",
            "Tu nombre <ADDISON> tiene <7> letras.\n"
          ]
        }
      ]
    },
    {
      "cell_type": "code",
      "source": [
        "#Ejercicio 4\n",
        "print(\"Basado al formato (+34-913724710-56)...\")\n",
        "numero = input(\"Digita tu numero: \")\n",
        "numero = numero[4:13:]\n",
        "print(numero)"
      ],
      "metadata": {
        "colab": {
          "base_uri": "https://localhost:8080/"
        },
        "id": "3Wj4rgf5N70J",
        "outputId": "49ca4d59-78be-4b4b-d973-a55c067256e4"
      },
      "execution_count": 22,
      "outputs": [
        {
          "output_type": "stream",
          "name": "stdout",
          "text": [
            "Basado al formato (+34-913724710-56)...\n",
            "Digita tu numero: +34-359642849-56\n",
            "359642849\n"
          ]
        }
      ]
    },
    {
      "cell_type": "code",
      "source": [
        "#Ejercicio 5\n",
        "frase = input(\"Escribe una frase:\\n  \")\n",
        "print(\"\\n\" + frase[::-1])"
      ],
      "metadata": {
        "colab": {
          "base_uri": "https://localhost:8080/"
        },
        "id": "9ZqAwkZ1P30b",
        "outputId": "2e360277-9ecc-41f3-a84e-8485e8668a32"
      },
      "execution_count": 25,
      "outputs": [
        {
          "output_type": "stream",
          "name": "stdout",
          "text": [
            "Escribe una frase:\n",
            "  aditrevni esarF\n",
            "\n",
            "Frase invertida\n"
          ]
        }
      ]
    },
    {
      "cell_type": "code",
      "source": [
        "#Ejercicio 6\n",
        "frase = input(\"Escribe una frase:\\n  \")\n",
        "print(\"\\n\" + frase.replace(\"a\", \"A\"))"
      ],
      "metadata": {
        "colab": {
          "base_uri": "https://localhost:8080/"
        },
        "id": "DqvHrToqQ6CB",
        "outputId": "d8148366-2844-406c-d2e1-51a754e024c7"
      },
      "execution_count": 31,
      "outputs": [
        {
          "output_type": "stream",
          "name": "stdout",
          "text": [
            "Escribe una frase:\n",
            "  Hola mundo!\n",
            "\n",
            "HolA mundo!\n"
          ]
        }
      ]
    }
  ]
}