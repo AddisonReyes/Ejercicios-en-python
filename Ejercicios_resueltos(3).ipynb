{
  "nbformat": 4,
  "nbformat_minor": 0,
  "metadata": {
    "colab": {
      "name": "Ejercicios_resueltos(3).ipynb",
      "provenance": [],
      "collapsed_sections": [],
      "authorship_tag": "ABX9TyNHUKIqyWKnZ+PKXA+7Yjf3",
      "include_colab_link": true
    },
    "kernelspec": {
      "name": "python3",
      "display_name": "Python 3"
    },
    "language_info": {
      "name": "python"
    }
  },
  "cells": [
    {
      "cell_type": "markdown",
      "metadata": {
        "id": "view-in-github",
        "colab_type": "text"
      },
      "source": [
        "<a href=\"https://colab.research.google.com/github/aaminrc/Ejercicios-en-python/blob/main/Ejercicios_resueltos(3).ipynb\" target=\"_parent\"><img src=\"https://colab.research.google.com/assets/colab-badge.svg\" alt=\"Open In Colab\"/></a>"
      ]
    },
    {
      "cell_type": "markdown",
      "source": [
        "Ejercicios de condicionales(https://aprendeconalf.es/docencia/python/ejercicios/condicionales/)"
      ],
      "metadata": {
        "id": "LvCfoxN_TEIc"
      }
    },
    {
      "cell_type": "code",
      "execution_count": null,
      "metadata": {
        "colab": {
          "base_uri": "https://localhost:8080/"
        },
        "id": "vigV6AGSPZTu",
        "outputId": "40925cea-3309-4485-9465-fdaff947a7ec"
      },
      "outputs": [
        {
          "output_type": "stream",
          "name": "stdout",
          "text": [
            "Cual es tu edad? 20\n",
            "\n",
            "Eres mayor de edad.\n"
          ]
        }
      ],
      "source": [
        "#Ejercicio 1\n",
        "edad = int(input(\"Cual es tu edad? \"))\n",
        "if edad >= 18:\n",
        "  print(\"\\nEres mayor de edad.\")\n",
        "else:\n",
        "  print(\"\\nEres menor de edad.\")"
      ]
    },
    {
      "cell_type": "code",
      "source": [
        "#Ejercicio 2\n",
        "import getpass\n",
        "clave = getpass.getpass(\"Escribe tu nueva contraseña: \")\n",
        "\n",
        "entrada = getpass.getpass(\"\\nIntroduce tu contraseña: \")\n",
        "if clave.lower() == entrada.lower():\n",
        "  print(\"Contraseña valida.\")\n",
        "else:\n",
        "  print(\"contraseña invalida.\")"
      ],
      "metadata": {
        "colab": {
          "base_uri": "https://localhost:8080/"
        },
        "id": "TuZ2kb4VuOjM",
        "outputId": "30ddb2ca-c2e5-4369-e89f-7c1cbd462d47"
      },
      "execution_count": null,
      "outputs": [
        {
          "output_type": "stream",
          "name": "stdout",
          "text": [
            "Escribe tu nueva contraseña: ··········\n",
            "\n",
            "Introduce tu contraseña: ··········\n",
            "Contraseña valida.\n"
          ]
        }
      ]
    },
    {
      "cell_type": "code",
      "source": [
        "#Ejercicio 3\n",
        "num1 = float(input(\"Digita un numero: \"))\n",
        "num2 = float(input(\"Digita otro numero: \"))\n",
        "\n",
        "\n",
        "if num1 == 0 or num2 == 0:\n",
        "  print(\"\\nERROR: Uno de los divisores es \\\"0\\\".\")\n",
        "else:\n",
        "  print(f\"\\nSe pueden dividir los numeros {num1} y {num2}.\")"
      ],
      "metadata": {
        "colab": {
          "base_uri": "https://localhost:8080/"
        },
        "id": "ImYZ5sktxDVj",
        "outputId": "33161cc2-92e1-4ee5-d380-c2fc5e2b62d9"
      },
      "execution_count": null,
      "outputs": [
        {
          "output_type": "stream",
          "name": "stdout",
          "text": [
            "Digita un numero: 9\n",
            "Digita otro numero: 0\n",
            "\n",
            "ERROR: Uno de los divisores es \"0\".\n"
          ]
        }
      ]
    },
    {
      "cell_type": "code",
      "source": [
        "#Ejercicio 4\n",
        "numero = int(input(\"Digita un numero entero: \"))\n",
        "\n",
        "if numero%2 == 0:\n",
        "  print(\"\\nEl numero introducido es par.\")\n",
        "else:\n",
        "  print(\"\\nEl numero introducido es impar.\")"
      ],
      "metadata": {
        "colab": {
          "base_uri": "https://localhost:8080/"
        },
        "id": "OTM3nodjyZth",
        "outputId": "9b7793be-7b03-401f-c34b-ea2c35ec9e32"
      },
      "execution_count": null,
      "outputs": [
        {
          "output_type": "stream",
          "name": "stdout",
          "text": [
            "Digita un numero entero: 64\n",
            "\n",
            "El numero introducido es par.\n"
          ]
        }
      ]
    },
    {
      "cell_type": "code",
      "source": [
        "#Ejercicio 5\n",
        "edad = int(input(\"Digita tu edad: \"))\n",
        "ingresos_mensuales = float(input(\"Digita tus ingresos mensuales: \"))\n",
        "\n",
        "if edad > 16 and ingresos_mensuales >= 1000:\n",
        "  print(\"\\nTienes que tributar.\")\n",
        "else:\n",
        "  print(\"\\nTodavia no tienes que tributar.\") "
      ],
      "metadata": {
        "colab": {
          "base_uri": "https://localhost:8080/"
        },
        "id": "UrjuAj_1y2ra",
        "outputId": "324a5b4b-e0c4-4d45-9971-c71a010926eb"
      },
      "execution_count": null,
      "outputs": [
        {
          "output_type": "stream",
          "name": "stdout",
          "text": [
            "Digita tu edad: 20\n",
            "Digita tus ingresos mensuales: 1500\n",
            "\n",
            "Tienes que tributar.\n"
          ]
        }
      ]
    },
    {
      "cell_type": "code",
      "source": [
        "#Ejercicio 6\n",
        "nombre = str(input(\"Como te llamas? \"))\n",
        "sexo = str(input(\"Cual es tu sexo? (F/M) \"))\n",
        "\n",
        "if sexo == \"M\":\n",
        "  if nombre.lower() < \"m\":\n",
        "    print(\"\\nPerteneces al grupo A\")\n",
        "  else:\n",
        "    print(\"\\nPerteneces al grupo B\")\n",
        "elif sexo == \"F\":\n",
        "  if nombre.lower() > \"n\":\n",
        "    print(\"\\nPerteneces al grupo A\")\n",
        "  else:\n",
        "    print(\"\\nPerteneces al grupo B\")\n",
        "else:\n",
        "  print(\"\\nERROR: Sexo desconocido...\")"
      ],
      "metadata": {
        "colab": {
          "base_uri": "https://localhost:8080/"
        },
        "id": "efr60UE4zy-R",
        "outputId": "90bc92db-a1cf-4e92-81e8-41f01a995292"
      },
      "execution_count": null,
      "outputs": [
        {
          "output_type": "stream",
          "name": "stdout",
          "text": [
            "Como te llamas? Roberto\n",
            "Cual es tu sexo? (F/M) M\n",
            "\n",
            "Perteneces al grupo B\n"
          ]
        }
      ]
    },
    {
      "cell_type": "code",
      "source": [
        "#Ejercicio 7\n",
        "renta_anual = int(input(\"Cual es tu renta anual: \"))\n",
        "tipo = 0\n",
        "\n",
        "if renta_anual <= 10000:\n",
        "  print(f\"Teniendo una renta anual del ${renta_anual}, tienes un tipo impositivo del 5%.\")\n",
        "  tipo = 5\n",
        "elif renta_anual <= 20000:\n",
        "  print(f\"Teniendo una renta anual del ${renta_anual}, tienes un tipo impositivo del 15%.\")\n",
        "  tipo = 15\n",
        "elif renta_anual <= 35000:\n",
        "  print(f\"Teniendo una renta anual del ${renta_anual}, tienes un tipo impositivo del 20%.\")\n",
        "  tipo = 20\n",
        "elif renta_anual <= 60000:\n",
        "  print(f\"Teniendo una renta anual del ${renta_anual}, tienes un tipo impositivo del 30%.\")\n",
        "  tipo = 30\n",
        "else:\n",
        "  print(f\"Teniendo una renta anual del ${renta_anual}, tienes un tipo impositivo del 45%.\")\n",
        "  tipo = 45\n",
        "\n",
        "print(\"Tienes que pagar $\" + str(renta_anual * tipo / 100))"
      ],
      "metadata": {
        "id": "9jW2-KGd40qi",
        "colab": {
          "base_uri": "https://localhost:8080/"
        },
        "outputId": "150c0436-3e14-4856-b56e-d1e3ad565a8f"
      },
      "execution_count": null,
      "outputs": [
        {
          "output_type": "stream",
          "name": "stdout",
          "text": [
            "Cual es tu renta anual: 80000\n",
            "Teniendo una renta anual del $80000, tienes un tipo impositivo del 45%.\n",
            "Tienes que pagar $36000.0\n"
          ]
        }
      ]
    },
    {
      "cell_type": "code",
      "source": [
        "#Ejercicio 8\n",
        "puntuacion = float(input(\"Indica tu puntuacion: \"))\n",
        "salario = 2400 * puntuacion\n",
        "\n",
        "if puntuacion == 0.0:\n",
        "  print(f\"Basada a tu puntuacion inaceptable, tu salario es de {salario}€\")\n",
        "elif puntuacion == 0.4:\n",
        "  print(f\"Basada a tu puntuacion aceptable, tu salario es de {salario}€\")\n",
        "elif puntuacion >= 0.6:\n",
        "  print(f\"Basada a tu puntuacion de meritorio, tu salario es de {salario}€\")\n",
        "else:\n",
        "  print(\"ERROR: Digitaste una puntuacion invalida.\")"
      ],
      "metadata": {
        "id": "GFgEReOgDnIj",
        "colab": {
          "base_uri": "https://localhost:8080/"
        },
        "outputId": "3d7a75a4-9f8d-4974-e671-e4171887de5e"
      },
      "execution_count": 15,
      "outputs": [
        {
          "output_type": "stream",
          "name": "stdout",
          "text": [
            "Indica tu puntuacion: 0.6\n",
            "Basada a tu puntuacion de meritorio, tu salario es de 1440.0€\n"
          ]
        }
      ]
    },
    {
      "cell_type": "code",
      "source": [
        "#Ejercicio 9\n",
        "edad = int(input(\"Cuantos años tienes: \"))\n",
        "\n",
        "if edad <= 4:\n",
        "  print(\"Puedes entrar gratis\")\n",
        "elif edad <= 18 and edad > 4:\n",
        "  print(\"Tienes que pagar 5€\")\n",
        "elif edad > 18:\n",
        "  print(\"Tienes que pagar 10€\")\n",
        "else:\n",
        "  print(\"ERROR: Digitaste un valor invalido\")"
      ],
      "metadata": {
        "colab": {
          "base_uri": "https://localhost:8080/"
        },
        "id": "1vyqBJZaYZ3N",
        "outputId": "6b8741e1-5769-49db-96da-6368fbc1400e"
      },
      "execution_count": 13,
      "outputs": [
        {
          "output_type": "stream",
          "name": "stdout",
          "text": [
            "Cuantos años tienes: 20\n",
            "Tienes que pagar 10€\n"
          ]
        }
      ]
    },
    {
      "cell_type": "code",
      "source": [
        "#Ejercicio 10\n",
        "opcion = input(\"Quieres una pizza vegetariana? (si/no) \")\n",
        "\n",
        "if opcion.lower() == \"si\":\n",
        "  print(\"\\n-Ingredientes vegetarianos: Pimiento y tofu.\")\n",
        "  ingredientes = input(\"Cuales ingredientes deseas escoger? \")\n",
        "  ingredientes = ingredientes.lower()\n",
        "  if ingredientes == \"pimiento\" or ingredientes == \"tofu\":\n",
        "    print(f\"\\nHas pedido una pizza vegetariana de {ingredientes} con queso mozzarella y salsa de tomate.\")\n",
        "  else:\n",
        "    print(\"ERROR #2: No tenemos ese ingrediente\")\n",
        "elif opcion.lower() == \"no\":\n",
        "  print(\"\\n-Ingredientes no vegetarianos: Peperoni, Jamón y Salmón.\")\n",
        "  ingredientes = input(\"Cuales ingredientes deseas escoger? \")\n",
        "  ingredientes = ingredientes.lower()\n",
        "  if ingredientes == \"peperoni\" or ingredientes ==  \"jamon\" or ingredientes ==  \"salmon\":\n",
        "    print(f\"\\nHas pedido una pizza de {ingredientes} con queso mozzarella y salsa de tomate.\")\n",
        "  else:\n",
        "    print(\"ERROR #2: No tenemos ese ingrediente\")\n",
        "else:\n",
        "  print(\"ERROR #1: No respondiste correctamente a la pregunta.\")"
      ],
      "metadata": {
        "colab": {
          "base_uri": "https://localhost:8080/"
        },
        "id": "FOJRt4lfcajv",
        "outputId": "8d20d665-1d23-4bc4-a497-970d4afde72c"
      },
      "execution_count": 23,
      "outputs": [
        {
          "output_type": "stream",
          "name": "stdout",
          "text": [
            "Quieres una pizza vegetariana? (si/no) si\n",
            "\n",
            "-Ingredientes vegetarianos: Pimiento y tofu.\n",
            "Cuales ingredientes deseas escoger? piMIENTO\n",
            "Has pedido una pizza vegetariana de pimiento con queso mozzarella y salsa de tomate.\n"
          ]
        }
      ]
    }
  ]
}