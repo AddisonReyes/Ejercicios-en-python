{
  "nbformat": 4,
  "nbformat_minor": 0,
  "metadata": {
    "colab": {
      "name": "Ejercicios resueltos.ipynb",
      "provenance": [],
      "collapsed_sections": [],
      "authorship_tag": "ABX9TyOg5PbDkhceOBo6FFexL8nX",
      "include_colab_link": true
    },
    "kernelspec": {
      "name": "python3",
      "display_name": "Python 3"
    },
    "language_info": {
      "name": "python"
    }
  },
  "cells": [
    {
      "cell_type": "markdown",
      "metadata": {
        "id": "view-in-github",
        "colab_type": "text"
      },
      "source": [
        "<a href=\"https://colab.research.google.com/github/Dak6ta/Ejercicios-en-python/blob/main/Ejercicios_resueltos.ipynb\" target=\"_parent\"><img src=\"https://colab.research.google.com/assets/colab-badge.svg\" alt=\"Open In Colab\"/></a>"
      ]
    },
    {
      "cell_type": "markdown",
      "source": [
        "Ejercicios de Tipos de Datos Simples\n",
        "(https://aprendeconalf.es/docencia/python/ejercicios/tipos-datos/)"
      ],
      "metadata": {
        "id": "bN9dCUV9qnyF"
      }
    },
    {
      "cell_type": "code",
      "execution_count": 1,
      "metadata": {
        "colab": {
          "base_uri": "https://localhost:8080/"
        },
        "id": "0gO1HcEcql6G",
        "outputId": "06eb708d-7fde-47f6-d610-fb347fd7139f"
      },
      "outputs": [
        {
          "output_type": "stream",
          "name": "stdout",
          "text": [
            "Hola Mundo!\n"
          ]
        }
      ],
      "source": [
        "#Ejercicio 1\n",
        "print(\"Hola Mundo!\")"
      ]
    },
    {
      "cell_type": "code",
      "source": [
        "#Ejercicio 2\n",
        "var = \"Hola mundo!\"\n",
        "print(var)"
      ],
      "metadata": {
        "colab": {
          "base_uri": "https://localhost:8080/"
        },
        "id": "7Hz_mbxNq0dw",
        "outputId": "ed92f552-0371-4a30-8e1b-1a4282078381"
      },
      "execution_count": 2,
      "outputs": [
        {
          "output_type": "stream",
          "name": "stdout",
          "text": [
            "Hola mundo!\n"
          ]
        }
      ]
    },
    {
      "cell_type": "code",
      "source": [
        "#Ejercicio 3\n",
        "nombre = input('Introduce tu nombre: ')\n",
        "print(\"Hola \" + nombre + \"!\")"
      ],
      "metadata": {
        "colab": {
          "base_uri": "https://localhost:8080/"
        },
        "id": "RI1JF91yq8bv",
        "outputId": "5821ec74-a776-47d8-efa3-1cd93951c69c"
      },
      "execution_count": 3,
      "outputs": [
        {
          "output_type": "stream",
          "name": "stdout",
          "text": [
            "Introduce tu nombre: Addison\n",
            "Hola Addison!\n"
          ]
        }
      ]
    },
    {
      "cell_type": "code",
      "source": [
        "#Ejercicio 4\n",
        "resultado = (3+2/2*5)**2\n",
        "print(resultado)"
      ],
      "metadata": {
        "colab": {
          "base_uri": "https://localhost:8080/"
        },
        "id": "HnJZej_qq8Z_",
        "outputId": "50c672e4-07b9-4e38-ad9a-c1f9d25e0921"
      },
      "execution_count": 6,
      "outputs": [
        {
          "output_type": "stream",
          "name": "stdout",
          "text": [
            "64.0\n"
          ]
        }
      ]
    },
    {
      "cell_type": "code",
      "source": [
        "#Ejercicio 5\n",
        "paga = int(input(\"Cuantas horas has trabajado? \"))\n",
        "print(\"\\n Se te pagara $150 por cada hora.\\n\")\n",
        "resultado = paga * 150\n",
        "print(\"Tu paga correspondiente es de $\" + str(resultado))"
      ],
      "metadata": {
        "colab": {
          "base_uri": "https://localhost:8080/"
        },
        "id": "0XxKfRJpsLzi",
        "outputId": "abf6757e-2a8d-4dcf-be68-442dc8a9e102"
      },
      "execution_count": 9,
      "outputs": [
        {
          "output_type": "stream",
          "name": "stdout",
          "text": [
            "Cuantas horas has trabajado? 60\n",
            "\n",
            " Se te pagara $150 por cada hora.\n",
            "\n",
            "Tu paga correspondiente es de $9000\n"
          ]
        }
      ]
    },
    {
      "cell_type": "code",
      "source": [
        "#Ejercicio 6\n",
        "numero = int(input('Digita un numero entero positivo: '))\n",
        "\n",
        "if numero >= 1:\n",
        "  suma = (numero*(numero + 1))/2\n",
        "  print(\"\\nEl resultado es: \" + str(suma))\n",
        "else:\n",
        "  print(\"\\nEl numero que escribiste no es un entero positivo...\")"
      ],
      "metadata": {
        "colab": {
          "base_uri": "https://localhost:8080/"
        },
        "id": "BWZSppPdtc-l",
        "outputId": "cc9d0453-dc29-4a1f-a0a4-767652a642be"
      },
      "execution_count": 20,
      "outputs": [
        {
          "output_type": "stream",
          "name": "stdout",
          "text": [
            "Digita un numero entero positivo: 16\n",
            "\n",
            "El resultado es: 136.0\n"
          ]
        }
      ]
    },
    {
      "cell_type": "code",
      "source": [
        "#Ejercicio 7\n",
        "peso = float(input('Digita tu peso en kg: '))\n",
        "estatura = float(input('Digita tu estatura: '))\n",
        "\n",
        "imc = round(peso / estatura**2, 2)\n",
        "print(\"Tu indice de masa corporal es de \" + str(imc))"
      ],
      "metadata": {
        "colab": {
          "base_uri": "https://localhost:8080/"
        },
        "id": "9NBmYEORyJ-W",
        "outputId": "b800c742-5e55-446c-b722-ea4c80dfdfa9"
      },
      "execution_count": 25,
      "outputs": [
        {
          "output_type": "stream",
          "name": "stdout",
          "text": [
            "Digita tu peso en kg: 104.56234\n",
            "Digita tu estatura: 1.80\n",
            "Tu indice de masa corporal es de 32.27\n"
          ]
        }
      ]
    },
    {
      "cell_type": "code",
      "source": [
        "#Ejercicio 8\n",
        "n = int(input('Digita un numero: '))\n",
        "m = int(input('Digita otro numero: '))\n",
        "\n",
        "cociente = n // m\n",
        "resto = n % m\n",
        "\n",
        "print(\"\\nResultados de la division \" + str(n) + \"/\" + str(m))\n",
        "print(\"Cociente: \" + str(cociente))\n",
        "print(\"Resto: \" + str(resto))"
      ],
      "metadata": {
        "colab": {
          "base_uri": "https://localhost:8080/"
        },
        "id": "hV40ij591C0a",
        "outputId": "c4470c11-d39b-4020-fa1a-3bc73a760b0d"
      },
      "execution_count": 34,
      "outputs": [
        {
          "output_type": "stream",
          "name": "stdout",
          "text": [
            "Digita un numero: 90\n",
            "Digita otro numero: 7\n",
            "\n",
            "Resultados de la division 90/7\n",
            "Cociente: 12\n",
            "Resto: 6\n"
          ]
        }
      ]
    },
    {
      "cell_type": "code",
      "source": [
        "#Ejercicio 9\n",
        "dinero = float(input('Cual es la cantidad de dinero que deseas invertir? $')) \n",
        "interes = float(input('Cual es el interes anual? %'))\n",
        "num = int(input('Durante cuantos años? '))\n",
        "\n",
        "ganancias = round(dinero * (interes / 100 + 1) ** num, 2)\n",
        "print(\"\\nAl pasar \" + str(num) + \" años, tu capital final es de $\" + str(ganancias))"
      ],
      "metadata": {
        "colab": {
          "base_uri": "https://localhost:8080/"
        },
        "id": "JqDwXzrG4Ekb",
        "outputId": "bc0419ed-b92a-4d88-a5e6-752e200756de"
      },
      "execution_count": 45,
      "outputs": [
        {
          "output_type": "stream",
          "name": "stdout",
          "text": [
            "Cual es la cantidad de dinero que deseas invertir? $150\n",
            "Cual es el interes anual? %5\n",
            "Durante cuantos años? 30\n",
            "\n",
            "Al pasar 30 años, tu capital final es de $648.29\n"
          ]
        }
      ]
    },
    {
      "cell_type": "code",
      "source": [
        "#Ejercicio 10\n",
        "print(\"Ultimo pedido hecho.\")\n",
        "payasos = int(input(\"Cantidad de payasos: \"))\n",
        "munecas = int(input(\"Cantidad de muñecas: \"))\n",
        "\n",
        "pesototal = (payasos * 112) + (munecas * 75)\n",
        "\n",
        "print(\"\\nGramos en el paquete: \" + str(pesototal) + \"G\")"
      ],
      "metadata": {
        "colab": {
          "base_uri": "https://localhost:8080/"
        },
        "id": "oJLuRnQ5_u4X",
        "outputId": "2ac261a9-250b-405d-f5fa-c4d40b146e27"
      },
      "execution_count": 47,
      "outputs": [
        {
          "output_type": "stream",
          "name": "stdout",
          "text": [
            "Ultimo pedido hecho.\n",
            "Cantidad de payasos: 8\n",
            "Cantidad de muñecas: 9\n",
            "\n",
            "Gramos en el paquete: 1571G\n"
          ]
        }
      ]
    },
    {
      "cell_type": "code",
      "source": [
        "#Ejercicio 11\n",
        "ahorros = float(input('Digita cuanto tiene la cuenta de Ahorros $'))\n",
        "\n",
        "print(\"\\nMira como se vera tu cuenta con el pasar del tiempo...\")\n",
        "print(\"1er año $\" + str(round(ahorros * (4 / 100 + 1) ** 1, 2)))\n",
        "print(\"2do año $\" + str(round(ahorros * (4 / 100 + 1) ** 2, 2)))\n",
        "print(\"3er año $\" + str(round(ahorros * (4 / 100 + 1) ** 3, 2)))\n"
      ],
      "metadata": {
        "colab": {
          "base_uri": "https://localhost:8080/"
        },
        "id": "1QHFH1RdCVcF",
        "outputId": "6b642e37-c97c-4927-fa71-c53a79d3fd6e"
      },
      "execution_count": 55,
      "outputs": [
        {
          "output_type": "stream",
          "name": "stdout",
          "text": [
            "Digita cuanto tiene la cuenta de Ahorros $500\n",
            "\n",
            "Mira como se vera tu cuenta con el pasar del tiempo...\n",
            "1er año $520.0\n",
            "2do año $540.8\n",
            "3er año $562.43\n"
          ]
        }
      ]
    },
    {
      "cell_type": "code",
      "source": [
        "#Ejercicio 12\n",
        "pan = int(input(\"Barras de pan vendidas: \"))\n",
        "\n",
        "precio_normal = 3.49\n",
        "precio_descuento = precio_normal * (1 - 0.6)\n",
        "\n",
        "print(\"\\nCoste del pan con descuento \" + str(round(pan*precio_descuento, 2)) + \"€\")\n",
        "print(\"Coste del pan sin descuento \" + str(round(pan*precio_normal, 2)) + \"€\")"
      ],
      "metadata": {
        "colab": {
          "base_uri": "https://localhost:8080/"
        },
        "id": "Vjkx799VEjoF",
        "outputId": "aaa3dadd-da50-4f93-de01-caa6b4a8f6d3"
      },
      "execution_count": 69,
      "outputs": [
        {
          "output_type": "stream",
          "name": "stdout",
          "text": [
            "Barras de pan vendidas: 7\n",
            "\n",
            "Coste del pan con descuento 9.77€\n",
            "Coste del pan sin descuento 24.43€\n"
          ]
        }
      ]
    }
  ]
}